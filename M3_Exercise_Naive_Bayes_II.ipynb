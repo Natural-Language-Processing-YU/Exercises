{
  "nbformat": 4,
  "nbformat_minor": 0,
  "metadata": {
    "colab": {
      "provenance": [],
      "authorship_tag": "ABX9TyNvRF8MTrQ6N4J7w8M4F2VX",
      "include_colab_link": true
    },
    "kernelspec": {
      "name": "python3",
      "display_name": "Python 3"
    },
    "language_info": {
      "name": "python"
    }
  },
  "cells": [
    {
      "cell_type": "markdown",
      "metadata": {
        "id": "view-in-github",
        "colab_type": "text"
      },
      "source": [
        "<a href=\"https://colab.research.google.com/github/Natural-Language-Processing-YU/Exercises/blob/main/Exercise_Naive_Bayes_II.ipynb\" target=\"_parent\"><img src=\"https://colab.research.google.com/assets/colab-badge.svg\" alt=\"Open In Colab\"/></a>"
      ]
    },
    {
      "cell_type": "code",
      "source": [],
      "metadata": {
        "id": "hWg2qSRy8GVd"
      },
      "execution_count": 3,
      "outputs": []
    },
    {
      "cell_type": "markdown",
      "source": [
        "The Naïve Bayes Classifier belongs to the family of probability classifier, using Bayesian theorem. The reason why it is called ‘Naïve’ because it requires rigid independence assumption between input variables. Therefore, it is more proper to call Simple Bayes or Independence Bayes. This algorithm has been studied extensively since 1960s. Simple though it is, Naïve Bayes Classifier remains one of popular methods to solve text categorization problem, the problem of judging documents as belonging to one category or the other, such as email spam detection.\n",
        "\n",
        "The goal of Naïve Bayes Classifier is to calculate conditional probability:\n",
        "\n",
        "\n",
        "for each of K possible outcomes or classes Ck.\n",
        "\n",
        "Let x=(x1,x2,…,xn). Using Bayesian theorem, we can get:\n",
        "\n",
        "\n",
        "The joint probability can be written as:\n",
        "\n",
        "\n",
        "Assume that all features x are mutually independent, we can get:\n",
        "\n",
        "\n",
        "Therefore, formula can be written as:\n",
        "\n",
        "\n",
        "Therefore, this is the final formula for Naïve Bayes Classifier.\n",
        "\n",
        "2. How to calculate parameters and make a prediction in Naïve Bayes Classifier?\n",
        "\n",
        "Maximum Likelihood Estimation (MLE) is used to estimate parameters — prior probability and conditional probability.\n",
        "\n",
        "\n",
        "The prior probability equals the number of certain cases of y occur divided by the total number of records.\n",
        "\n",
        "\n",
        "The conditional probability of p(x1=a1|y=C1) equals the number of cases when x1 equals to a1 and y equals to C1 divided by the number of cases when y equals to C1.\n",
        "\n",
        "Naïve Bayes Classifier uses following formula to make a prediction:\n",
        "\n",
        "[<img src=\"https://miro.medium.com/v2/resize:fit:640/1*H3HGRc39_cO3ByUePdanXQ.gif\">](https://miro.medium.com/v2/resize:fit:640/1*H3HGRc39_cO3ByUePdanXQ.gif)\n",
        "\n",
        "For example, 15 records in the table below are used to train a Naïve Bayes model, and then a prediction is made to a new record X(B, S).\n",
        "\n",
        "[<img src=\"https://miro.medium.com/v2/resize:fit:828/format:webp/1*I6X2h2D_NcAggoPFiDGMgQ.png\n",
        "\">]()\n",
        "\n",
        "\n",
        "\n",
        "Use formula above to estimate prior and conditional probability, and we can get:\n",
        "\n",
        "[<img src=\"https://miro.medium.com/v2/resize:fit:640/format:webp/1*t-Jd4AHdgiUPozbtVskR4w.png\n",
        "\">]()\n",
        "\n"
      ],
      "metadata": {
        "id": "a5niC0W98LfD"
      }
    },
    {
      "cell_type": "markdown",
      "source": [
        "# Step 1: Create a dataset.\n",
        "\n"
      ],
      "metadata": {
        "id": "wa13MwRc8G0C"
      }
    },
    {
      "cell_type": "code",
      "execution_count": 4,
      "metadata": {
        "colab": {
          "base_uri": "https://localhost:8080/",
          "height": 519
        },
        "id": "LmYkf8hO7tip",
        "outputId": "db203c6c-8667-4304-90d8-d7ffe195e8c7"
      },
      "outputs": [
        {
          "output_type": "display_data",
          "data": {
            "text/plain": [
              "   x1 x2  y\n",
              "0   A  S  0\n",
              "1   A  M  0\n",
              "2   A  M  1\n",
              "3   A  S  1\n",
              "4   A  S  0\n",
              "5   B  S  0\n",
              "6   B  M  0\n",
              "7   B  M  1\n",
              "8   B  L  1\n",
              "9   B  L  1\n",
              "10  C  L  1\n",
              "11  C  M  1\n",
              "12  C  M  1\n",
              "13  C  L  1\n",
              "14  C  L  0"
            ],
            "text/html": [
              "\n",
              "  <div id=\"df-c5930acf-36e6-4735-93ff-afbf14674544\">\n",
              "    <div class=\"colab-df-container\">\n",
              "      <div>\n",
              "<style scoped>\n",
              "    .dataframe tbody tr th:only-of-type {\n",
              "        vertical-align: middle;\n",
              "    }\n",
              "\n",
              "    .dataframe tbody tr th {\n",
              "        vertical-align: top;\n",
              "    }\n",
              "\n",
              "    .dataframe thead th {\n",
              "        text-align: right;\n",
              "    }\n",
              "</style>\n",
              "<table border=\"1\" class=\"dataframe\">\n",
              "  <thead>\n",
              "    <tr style=\"text-align: right;\">\n",
              "      <th></th>\n",
              "      <th>x1</th>\n",
              "      <th>x2</th>\n",
              "      <th>y</th>\n",
              "    </tr>\n",
              "  </thead>\n",
              "  <tbody>\n",
              "    <tr>\n",
              "      <th>0</th>\n",
              "      <td>A</td>\n",
              "      <td>S</td>\n",
              "      <td>0</td>\n",
              "    </tr>\n",
              "    <tr>\n",
              "      <th>1</th>\n",
              "      <td>A</td>\n",
              "      <td>M</td>\n",
              "      <td>0</td>\n",
              "    </tr>\n",
              "    <tr>\n",
              "      <th>2</th>\n",
              "      <td>A</td>\n",
              "      <td>M</td>\n",
              "      <td>1</td>\n",
              "    </tr>\n",
              "    <tr>\n",
              "      <th>3</th>\n",
              "      <td>A</td>\n",
              "      <td>S</td>\n",
              "      <td>1</td>\n",
              "    </tr>\n",
              "    <tr>\n",
              "      <th>4</th>\n",
              "      <td>A</td>\n",
              "      <td>S</td>\n",
              "      <td>0</td>\n",
              "    </tr>\n",
              "    <tr>\n",
              "      <th>5</th>\n",
              "      <td>B</td>\n",
              "      <td>S</td>\n",
              "      <td>0</td>\n",
              "    </tr>\n",
              "    <tr>\n",
              "      <th>6</th>\n",
              "      <td>B</td>\n",
              "      <td>M</td>\n",
              "      <td>0</td>\n",
              "    </tr>\n",
              "    <tr>\n",
              "      <th>7</th>\n",
              "      <td>B</td>\n",
              "      <td>M</td>\n",
              "      <td>1</td>\n",
              "    </tr>\n",
              "    <tr>\n",
              "      <th>8</th>\n",
              "      <td>B</td>\n",
              "      <td>L</td>\n",
              "      <td>1</td>\n",
              "    </tr>\n",
              "    <tr>\n",
              "      <th>9</th>\n",
              "      <td>B</td>\n",
              "      <td>L</td>\n",
              "      <td>1</td>\n",
              "    </tr>\n",
              "    <tr>\n",
              "      <th>10</th>\n",
              "      <td>C</td>\n",
              "      <td>L</td>\n",
              "      <td>1</td>\n",
              "    </tr>\n",
              "    <tr>\n",
              "      <th>11</th>\n",
              "      <td>C</td>\n",
              "      <td>M</td>\n",
              "      <td>1</td>\n",
              "    </tr>\n",
              "    <tr>\n",
              "      <th>12</th>\n",
              "      <td>C</td>\n",
              "      <td>M</td>\n",
              "      <td>1</td>\n",
              "    </tr>\n",
              "    <tr>\n",
              "      <th>13</th>\n",
              "      <td>C</td>\n",
              "      <td>L</td>\n",
              "      <td>1</td>\n",
              "    </tr>\n",
              "    <tr>\n",
              "      <th>14</th>\n",
              "      <td>C</td>\n",
              "      <td>L</td>\n",
              "      <td>0</td>\n",
              "    </tr>\n",
              "  </tbody>\n",
              "</table>\n",
              "</div>\n",
              "      <button class=\"colab-df-convert\" onclick=\"convertToInteractive('df-c5930acf-36e6-4735-93ff-afbf14674544')\"\n",
              "              title=\"Convert this dataframe to an interactive table.\"\n",
              "              style=\"display:none;\">\n",
              "        \n",
              "  <svg xmlns=\"http://www.w3.org/2000/svg\" height=\"24px\"viewBox=\"0 0 24 24\"\n",
              "       width=\"24px\">\n",
              "    <path d=\"M0 0h24v24H0V0z\" fill=\"none\"/>\n",
              "    <path d=\"M18.56 5.44l.94 2.06.94-2.06 2.06-.94-2.06-.94-.94-2.06-.94 2.06-2.06.94zm-11 1L8.5 8.5l.94-2.06 2.06-.94-2.06-.94L8.5 2.5l-.94 2.06-2.06.94zm10 10l.94 2.06.94-2.06 2.06-.94-2.06-.94-.94-2.06-.94 2.06-2.06.94z\"/><path d=\"M17.41 7.96l-1.37-1.37c-.4-.4-.92-.59-1.43-.59-.52 0-1.04.2-1.43.59L10.3 9.45l-7.72 7.72c-.78.78-.78 2.05 0 2.83L4 21.41c.39.39.9.59 1.41.59.51 0 1.02-.2 1.41-.59l7.78-7.78 2.81-2.81c.8-.78.8-2.07 0-2.86zM5.41 20L4 18.59l7.72-7.72 1.47 1.35L5.41 20z\"/>\n",
              "  </svg>\n",
              "      </button>\n",
              "      \n",
              "  <style>\n",
              "    .colab-df-container {\n",
              "      display:flex;\n",
              "      flex-wrap:wrap;\n",
              "      gap: 12px;\n",
              "    }\n",
              "\n",
              "    .colab-df-convert {\n",
              "      background-color: #E8F0FE;\n",
              "      border: none;\n",
              "      border-radius: 50%;\n",
              "      cursor: pointer;\n",
              "      display: none;\n",
              "      fill: #1967D2;\n",
              "      height: 32px;\n",
              "      padding: 0 0 0 0;\n",
              "      width: 32px;\n",
              "    }\n",
              "\n",
              "    .colab-df-convert:hover {\n",
              "      background-color: #E2EBFA;\n",
              "      box-shadow: 0px 1px 2px rgba(60, 64, 67, 0.3), 0px 1px 3px 1px rgba(60, 64, 67, 0.15);\n",
              "      fill: #174EA6;\n",
              "    }\n",
              "\n",
              "    [theme=dark] .colab-df-convert {\n",
              "      background-color: #3B4455;\n",
              "      fill: #D2E3FC;\n",
              "    }\n",
              "\n",
              "    [theme=dark] .colab-df-convert:hover {\n",
              "      background-color: #434B5C;\n",
              "      box-shadow: 0px 1px 3px 1px rgba(0, 0, 0, 0.15);\n",
              "      filter: drop-shadow(0px 1px 2px rgba(0, 0, 0, 0.3));\n",
              "      fill: #FFFFFF;\n",
              "    }\n",
              "  </style>\n",
              "\n",
              "      <script>\n",
              "        const buttonEl =\n",
              "          document.querySelector('#df-c5930acf-36e6-4735-93ff-afbf14674544 button.colab-df-convert');\n",
              "        buttonEl.style.display =\n",
              "          google.colab.kernel.accessAllowed ? 'block' : 'none';\n",
              "\n",
              "        async function convertToInteractive(key) {\n",
              "          const element = document.querySelector('#df-c5930acf-36e6-4735-93ff-afbf14674544');\n",
              "          const dataTable =\n",
              "            await google.colab.kernel.invokeFunction('convertToInteractive',\n",
              "                                                     [key], {});\n",
              "          if (!dataTable) return;\n",
              "\n",
              "          const docLinkHtml = 'Like what you see? Visit the ' +\n",
              "            '<a target=\"_blank\" href=https://colab.research.google.com/notebooks/data_table.ipynb>data table notebook</a>'\n",
              "            + ' to learn more about interactive tables.';\n",
              "          element.innerHTML = '';\n",
              "          dataTable['output_type'] = 'display_data';\n",
              "          await google.colab.output.renderOutput(dataTable, element);\n",
              "          const docLink = document.createElement('div');\n",
              "          docLink.innerHTML = docLinkHtml;\n",
              "          element.appendChild(docLink);\n",
              "        }\n",
              "      </script>\n",
              "    </div>\n",
              "  </div>\n",
              "  "
            ]
          },
          "metadata": {}
        }
      ],
      "source": [
        "#########################\n",
        "# Create data\n",
        "#########################\n",
        "import numpy as np\n",
        "import pandas as pd\n",
        "\n",
        "data=[['A','S',0],\n",
        "      ['A','M',0],\n",
        "      ['A','M',1],\n",
        "      ['A','S',1],\n",
        "      ['A','S',0],\n",
        "      ['B','S',0],\n",
        "      ['B','M',0],\n",
        "      ['B','M',1],\n",
        "      ['B','L',1],\n",
        "      ['B','L',1],\n",
        "      ['C','L',1],\n",
        "      ['C','M',1],\n",
        "      ['C','M',1],\n",
        "      ['C','L',1],\n",
        "      ['C','L',0]\n",
        "      ]\n",
        "data = pd.DataFrame(data,columns=['x1','x2','y'])\n",
        "display(data)"
      ]
    },
    {
      "cell_type": "markdown",
      "source": [
        "# Step 2: Train Naïve Bayes Model by calculate prior and conditional probability.\n",
        "\n"
      ],
      "metadata": {
        "id": "Dy-Ig7Hj8BAm"
      }
    },
    {
      "cell_type": "code",
      "source": [
        "###########################\n",
        "# Train Naive Bayes Model\n",
        "###########################\n",
        "def Naive_Bayes(data):\n",
        "    # Step 1: Calculate Prior Probability\n",
        "    y_unique = data.y.unique()\n",
        "    prior_probability = np.zeros(len(data.y.unique()))\n",
        "    for i in range(0,len(y_unique)):\n",
        "        prior_probability[i]=sum(data['y']==y_unique[i])/len(data['y'])\n",
        "\n",
        "    # Step 2: Calculate Conditional Probability\n",
        "    conditional_probability = {}\n",
        "    for i in range(1,data.shape[1]):\n",
        "        x_unique = list(set(data['x'+str(i)]))\n",
        "        x_conditional_probability = np.zeros((len(data.y.unique()),len(set(data['x'+str(i)]))))\n",
        "        for j in range(0,len(y_unique)):\n",
        "            for k in range(0,len(x_unique)):\n",
        "                x_conditional_probability[j,k]=data.loc[(data['x'+str(i)]==x_unique[k])&(data['y']==y_unique[j]),].shape[0]/sum(data['y']==y_unique[j])\n",
        "\n",
        "        x_conditional_probability = pd.DataFrame(x_conditional_probability,columns=x_unique,index=y_unique)\n",
        "        conditional_probability['x'+str(i)] = x_conditional_probability\n",
        "\n",
        "    return prior_probability,conditional_probability\n",
        "\n",
        "\n",
        "prior_probability,conditional_probability = Naive_Bayes(data)"
      ],
      "metadata": {
        "id": "TcjbgUoW76kl"
      },
      "execution_count": 5,
      "outputs": []
    },
    {
      "cell_type": "markdown",
      "source": [
        "#Step 3: Make a Prediction"
      ],
      "metadata": {
        "id": "SumnKrat7-QS"
      }
    },
    {
      "cell_type": "code",
      "source": [
        "####################\n",
        "# Prediction\n",
        "####################\n",
        "def prediction(X):\n",
        "    x1=X[0];x2=X[1]\n",
        "    p0=prior_probability[0]*conditional_probability['x1'][x1][0]*conditional_probability['x2'][x2][0]\n",
        "    p1=prior_probability[1]*conditional_probability['x1'][x1][1]*conditional_probability['x2'][x2][1]\n",
        "\n",
        "    if p0>p1:\n",
        "        y_pred=0\n",
        "    else:\n",
        "        y_pred=1\n",
        "\n",
        "    return y_pred\n",
        "\n",
        "prediction(['B','S'])"
      ],
      "metadata": {
        "colab": {
          "base_uri": "https://localhost:8080/"
        },
        "id": "LSKLvwAo79jp",
        "outputId": "f85e89c1-568e-4a84-e737-79fff0c05d80"
      },
      "execution_count": 6,
      "outputs": [
        {
          "output_type": "execute_result",
          "data": {
            "text/plain": [
              "0"
            ]
          },
          "metadata": {},
          "execution_count": 6
        }
      ]
    },
    {
      "cell_type": "markdown",
      "source": [
        "References:\n",
        "\n",
        "* https://towardsdatascience.com/introduction-to-na%C3%AFve-bayes-classifier-fa59e3e24aaf\n"
      ],
      "metadata": {
        "id": "QuspBaBK8OAm"
      }
    },
    {
      "cell_type": "markdown",
      "source": [],
      "metadata": {
        "id": "JoM34jRh8Tn5"
      }
    }
  ]
}
