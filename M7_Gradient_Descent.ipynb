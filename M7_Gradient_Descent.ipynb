{
  "nbformat": 4,
  "nbformat_minor": 0,
  "metadata": {
    "colab": {
      "provenance": [],
      "authorship_tag": "ABX9TyMzSPPqAc0imRtA6k9GoE09",
      "include_colab_link": true
    },
    "kernelspec": {
      "name": "python3",
      "display_name": "Python 3"
    },
    "language_info": {
      "name": "python"
    }
  },
  "cells": [
    {
      "cell_type": "markdown",
      "metadata": {
        "id": "view-in-github",
        "colab_type": "text"
      },
      "source": [
        "<a href=\"https://colab.research.google.com/github/Natural-Language-Processing-YU/Exercises/blob/main/M7_Gradient_Descent.ipynb\" target=\"_parent\"><img src=\"https://colab.research.google.com/assets/colab-badge.svg\" alt=\"Open In Colab\"/></a>"
      ]
    },
    {
      "cell_type": "code",
      "execution_count": 22,
      "metadata": {
        "id": "b5pCDKbwoyRy"
      },
      "outputs": [],
      "source": [
        "import numpy as np\n",
        "import matplotlib.pyplot as plt\n"
      ]
    },
    {
      "cell_type": "code",
      "source": [
        "np.random.seed(0)\n",
        "\n",
        "# Generate 'hours of studying' data\n",
        "hours_studying = np.random.normal(3.0, 1.0, 100)\n",
        "\n",
        "# Generate 'grades' data\n",
        "grades = hours_studying * np.random.normal(30.0, 10.0, 100)\n",
        "\n",
        "# Plot the data\n",
        "plt.scatter(hours_studying, grades)\n",
        "plt.show()\n"
      ],
      "metadata": {
        "colab": {
          "base_uri": "https://localhost:8080/",
          "height": 430
        },
        "id": "uWOb6F2Mo4i1",
        "outputId": "f6dd87b9-c180-4a23-c24d-48e7d1362e4c"
      },
      "execution_count": 23,
      "outputs": [
        {
          "output_type": "display_data",
          "data": {
            "text/plain": [
              "<Figure size 640x480 with 1 Axes>"
            ],
            "image/png": "[encoded data removed]"
          },
          "metadata": {}
        }
      ]
    },
    {
      "cell_type": "markdown",
      "source": [
        " The cost function that we're going to use is the sum of squared residuals (SSR). SSR is the sum of the squared differences between the actual and predicted values.\n",
        "\n",
        "Mathematically, it is represented as:\n",
        "\n",
        "$$\n",
        "J(m, b) = \\frac{1}{N}\\sum_{i=1}^{N}(y_i - (mx_i + b))^2\n",
        "$$\n",
        "\n",
        "Here, $y_i$ is the actual value, $mx_i + b$ is the predicted value, and $N$ is the total number of observations.\n"
      ],
      "metadata": {
        "id": "5XeeXPIOr8Ru"
      }
    },
    {
      "cell_type": "code",
      "source": [
        "def compute_cost(m, b, X, Y):\n",
        "    total_cost = 0\n",
        "    N = len(X)\n",
        "\n",
        "    for i in range(N):\n",
        "        x = X[i]\n",
        "        y = Y[i]\n",
        "        total_cost += (y - (m*x + b))**2\n",
        "\n",
        "    return total_cost/N\n"
      ],
      "metadata": {
        "id": "4wloIyjjo6W3"
      },
      "execution_count": 24,
      "outputs": []
    },
    {
      "cell_type": "code",
      "source": [
        "def gradient_descent(m_current, b_current, X, Y, learning_rate):\n",
        "    m_gradient = 0\n",
        "    b_gradient = 0\n",
        "    N = float(len(X))\n",
        "\n",
        "    for i in range(len(X)):\n",
        "        x = X[i]\n",
        "        y = Y[i]\n",
        "        m_gradient += - (2/N) * x * (y - (m_current * x + b_current))\n",
        "        b_gradient += - (2/N) * (y - (m_current * x + b_current))\n",
        "\n",
        "    m_updated = m_current - learning_rate * m_gradient\n",
        "    b_updated = b_current - learning_rate * b_gradient\n",
        "\n",
        "    return m_updated, b_updated\n"
      ],
      "metadata": {
        "id": "40RMoqqEo7_W"
      },
      "execution_count": 25,
      "outputs": []
    },
    {
      "cell_type": "code",
      "source": [
        "m = 0\n",
        "b = 0\n",
        "learning_rate = 0.0001\n"
      ],
      "metadata": {
        "id": "K-IgVgOeo9er"
      },
      "execution_count": 26,
      "outputs": []
    },
    {
      "cell_type": "markdown",
      "source": [
        "Gradient descent is an optimization algorithm that's used to minimize the cost function. It does this by iteratively moving in the direction of steepest descent, defined by the negative of the gradient.\n",
        "\n",
        "The gradients for $m$ and $b$ are calculated as:\n",
        "\n",
        "$$\n",
        "\\frac{dJ}{dm} = - \\frac{2}{N} \\sum_{i=1}^{N} x_i(y_i - (mx_i + b))\n",
        "$$\n",
        "\n",
        "$$\n",
        "\\frac{dJ}{db} = - \\frac{2}{N} \\sum_{i=1}^{N} (y_i - (mx_i + b))\n",
        "$$\n",
        "\n",
        "We update $m$ and $b$ using a learning rate ($\\alpha$) as follows:\n",
        "\n",
        "$$\n",
        "m_{\\text{new}} = m_{\\text{current}} - \\alpha * \\frac{dJ}{dm}\n",
        "$$\n",
        "\n",
        "$$\n",
        "b_{\\text{new}} = b_{\\text{current}} - \\alpha * \\frac{dJ}{db}\n",
        "$$\n",
        "\n",
        "In a Jupyter notebook, you can add these LaTeX equations in a markdown cell. The `$` sign is used to start and end a LaTeX equation. For inline equations use single dollar signs, and for block equations (those that appear on their own line), use double dollar signs."
      ],
      "metadata": {
        "id": "fV53Zuv0sDR7"
      }
    },
    {
      "cell_type": "code",
      "source": [
        "num_iterations = 1000\n",
        "for i in range(num_iterations):\n",
        "    m, b = gradient_descent(m, b, hours_studying, grades, learning_rate)\n",
        "    if i % 100 == 0:\n",
        "        print(f\"Iteration {i}: m = {m}, b = {b}, cost = {compute_cost(m, b, hours_studying, grades)}\")\n",
        "\n",
        "        plt.figure(i // 100)  # Creates a new figure for each plot\n",
        "        plt.scatter(hours_studying, grades)\n",
        "        pred = m * hours_studying + b\n",
        "        plt.plot(hours_studying, pred, color='red')\n",
        "        plt.title(f'Line of best fit at iteration {i}')\n",
        "        plt.show()\n"
      ],
      "metadata": {
        "id": "rGfjhsVtr0lE"
      },
      "execution_count": null,
      "outputs": []
    },
    {
      "cell_type": "markdown",
      "source": [],
      "metadata": {
        "id": "9WAHe6CFo-2K"
      }
    },
    {
      "cell_type": "code",
      "source": [
        "plt.scatter(hours_studying, grades)\n",
        "pred = m * hours_studying + b\n",
        "plt.plot(hours_studying, pred, color='red')\n",
        "plt.show()\n"
      ],
      "metadata": {
        "colab": {
          "base_uri": "https://localhost:8080/",
          "height": 430
        },
        "id": "ghfzXr0qpAOY",
        "outputId": "e1a1b1eb-156c-4632-d66b-217a29d04288"
      },
      "execution_count": 28,
      "outputs": [
        {
          "output_type": "display_data",
          "data": {
            "text/plain": [
              "<Figure size 640x480 with 1 Axes>"
            ],
            "image/png": "[encoded data removed]"
          },
          "metadata": {}
        }
      ]
    }
  ]
}