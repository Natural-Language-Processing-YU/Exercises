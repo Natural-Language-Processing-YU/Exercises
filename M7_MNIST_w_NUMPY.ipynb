{
  "cells": [
    {
      "cell_type": "markdown",
      "metadata": {
        "id": "view-in-github",
        "colab_type": "text"
      },
      "source": [
        "<a href=\"https://colab.research.google.com/github/Natural-Language-Processing-YU/Exercises/blob/main/M7_MNIST_w_NUMPY.ipynb\" target=\"_parent\"><img src=\"https://colab.research.google.com/assets/colab-badge.svg\" alt=\"Open In Colab\"/></a>"
      ]
    },
    {
      "cell_type": "markdown",
      "source": [
        "#MNIST Example in Numpy\n",
        "This is an example of training a neural network on the MNIST dataset using NumPy.\n",
        "Refernece: https://github.com/karynaur/mnist-from-numpy.git"
      ],
      "metadata": {
        "id": "egQ5YxYZCkNG"
      }
    },
    {
      "cell_type": "markdown",
      "source": [
        "# Import Libraries, Mount Google drive, and clone the repo"
      ],
      "metadata": {
        "id": "S2r-L_YACwgw"
      }
    },
    {
      "cell_type": "code",
      "execution_count": 1,
      "metadata": {
        "colab": {
          "base_uri": "https://localhost:8080/"
        },
        "id": "QQI02WR4BaSU",
        "outputId": "08d6175c-5779-4a16-c5b2-c343c4ae19a9"
      },
      "outputs": [
        {
          "output_type": "stream",
          "name": "stdout",
          "text": [
            "Populating the interactive namespace from numpy and matplotlib\n"
          ]
        }
      ],
      "source": [
        "import numpy as np\n",
        "import requests, gzip, os, hashlib\n",
        "%pylab inline"
      ]
    },
    {
      "cell_type": "code",
      "source": [
        "from google.colab import drive\n",
        "drive.mount('/content/gdrive')"
      ],
      "metadata": {
        "colab": {
          "base_uri": "https://localhost:8080/"
        },
        "id": "RsAB3udwBy38",
        "outputId": "8b76fb87-873f-47aa-8260-1d616d7467fe"
      },
      "execution_count": 4,
      "outputs": [
        {
          "output_type": "stream",
          "name": "stdout",
          "text": [
            "Mounted at /content/gdrive\n"
          ]
        }
      ]
    },
    {
      "cell_type": "code",
      "source": [
        "! git clone https://github.com/karynaur/mnist-from-numpy.git\n"
      ],
      "metadata": {
        "colab": {
          "base_uri": "https://localhost:8080/"
        },
        "id": "bfV-U-2IB5bZ",
        "outputId": "a5942ef7-76fa-4891-a734-f29c8b65d3b9"
      },
      "execution_count": 7,
      "outputs": [
        {
          "output_type": "stream",
          "name": "stdout",
          "text": [
            "Cloning into 'mnist-from-numpy'...\n",
            "remote: Enumerating objects: 55, done.\u001b[K\n",
            "remote: Counting objects:   1% (1/55)\u001b[K\rremote: Counting objects:   3% (2/55)\u001b[K\rremote: Counting objects:   5% (3/55)\u001b[K\rremote: Counting objects:   7% (4/55)\u001b[K\rremote: Counting objects:   9% (5/55)\u001b[K\rremote: Counting objects:  10% (6/55)\u001b[K\rremote: Counting objects:  12% (7/55)\u001b[K\rremote: Counting objects:  14% (8/55)\u001b[K\rremote: Counting objects:  16% (9/55)\u001b[K\rremote: Counting objects:  18% (10/55)\u001b[K\rremote: Counting objects:  20% (11/55)\u001b[K\rremote: Counting objects:  21% (12/55)\u001b[K\rremote: Counting objects:  23% (13/55)\u001b[K\rremote: Counting objects:  25% (14/55)\u001b[K\rremote: Counting objects:  27% (15/55)\u001b[K\rremote: Counting objects:  29% (16/55)\u001b[K\rremote: Counting objects:  30% (17/55)\u001b[K\rremote: Counting objects:  32% (18/55)\u001b[K\rremote: Counting objects:  34% (19/55)\u001b[K\rremote: Counting objects:  36% (20/55)\u001b[K\rremote: Counting objects:  38% (21/55)\u001b[K\rremote: Counting objects:  40% (22/55)\u001b[K\rremote: Counting objects:  41% (23/55)\u001b[K\rremote: Counting objects:  43% (24/55)\u001b[K\rremote: Counting objects:  45% (25/55)\u001b[K\rremote: Counting objects:  47% (26/55)\u001b[K\rremote: Counting objects:  49% (27/55)\u001b[K\rremote: Counting objects:  50% (28/55)\u001b[K\rremote: Counting objects:  52% (29/55)\u001b[K\rremote: Counting objects:  54% (30/55)\u001b[K\rremote: Counting objects:  56% (31/55)\u001b[K\rremote: Counting objects:  58% (32/55)\u001b[K\rremote: Counting objects:  60% (33/55)\u001b[K\rremote: Counting objects:  61% (34/55)\u001b[K\rremote: Counting objects:  63% (35/55)\u001b[K\rremote: Counting objects:  65% (36/55)\u001b[K\rremote: Counting objects:  67% (37/55)\u001b[K\rremote: Counting objects:  69% (38/55)\u001b[K\rremote: Counting objects:  70% (39/55)\u001b[K\rremote: Counting objects:  72% (40/55)\u001b[K\rremote: Counting objects:  74% (41/55)\u001b[K\rremote: Counting objects:  76% (42/55)\u001b[K\rremote: Counting objects:  78% (43/55)\u001b[K\rremote: Counting objects:  80% (44/55)\u001b[K\rremote: Counting objects:  81% (45/55)\u001b[K\rremote: Counting objects:  83% (46/55)\u001b[K\rremote: Counting objects:  85% (47/55)\u001b[K\rremote: Counting objects:  87% (48/55)\u001b[K\rremote: Counting objects:  89% (49/55)\u001b[K\rremote: Counting objects:  90% (50/55)\u001b[K\rremote: Counting objects:  92% (51/55)\u001b[K\rremote: Counting objects:  94% (52/55)\u001b[K\rremote: Counting objects:  96% (53/55)\u001b[K\rremote: Counting objects:  98% (54/55)\u001b[K\rremote: Counting objects: 100% (55/55)\u001b[K\rremote: Counting objects: 100% (55/55), done.\u001b[K\n",
            "remote: Compressing objects: 100% (40/40), done.\u001b[K\n",
            "remote: Total 55 (delta 18), reused 46 (delta 12), pack-reused 0\u001b[K\n",
            "Unpacking objects: 100% (55/55), 11.53 MiB | 13.96 MiB/s, done.\n"
          ]
        }
      ]
    },
    {
      "cell_type": "code",
      "source": [
        "!ls"
      ],
      "metadata": {
        "colab": {
          "base_uri": "https://localhost:8080/"
        },
        "id": "jCZ-WxnpCSC9",
        "outputId": "ee406be2-93eb-4d9c-e74c-3545e521251e"
      },
      "execution_count": 8,
      "outputs": [
        {
          "output_type": "stream",
          "name": "stdout",
          "text": [
            "gdrive\tmnist-from-numpy  sample_data\n"
          ]
        }
      ]
    },
    {
      "cell_type": "markdown",
      "source": [
        "# Load the data"
      ],
      "metadata": {
        "id": "SueXtrJ9C0yd"
      }
    },
    {
      "cell_type": "code",
      "execution_count": 9,
      "metadata": {
        "id": "d1Zr6FUzBaSX"
      },
      "outputs": [],
      "source": [
        "#fetch data\n",
        "path='/content/mnist-from-numpy/data'\n",
        "def fetch(url):\n",
        "    fp = os.path.join(path, hashlib.md5(url.encode('utf-8')).hexdigest())\n",
        "    if os.path.isfile(fp):\n",
        "        with open(fp, \"rb\") as f:\n",
        "            data = f.read()\n",
        "    else:\n",
        "        with open(fp, \"wb\") as f:\n",
        "            data = requests.get(url).content\n",
        "            f.write(data)\n",
        "    return np.frombuffer(gzip.decompress(data), dtype=np.uint8).copy()\n",
        "\n",
        "X = fetch(\"http://yann.lecun.com/exdb/mnist/train-images-idx3-ubyte.gz\")[0x10:].reshape((-1, 28, 28))\n",
        "Y = fetch(\"http://yann.lecun.com/exdb/mnist/train-labels-idx1-ubyte.gz\")[8:]\n",
        "X_test = fetch(\"http://yann.lecun.com/exdb/mnist/t10k-images-idx3-ubyte.gz\")[0x10:].reshape((-1, 28*28))\n",
        "Y_test = fetch(\"http://yann.lecun.com/exdb/mnist/t10k-labels-idx1-ubyte.gz\")[8:]"
      ]
    },
    {
      "cell_type": "markdown",
      "source": [
        "# Data Split\n",
        "Overall, this code snippet performs a random shuffle of indices, splits the data into a training set and a validation set based on the shuffled indices, and assigns the corresponding subsets of input (X) and target (Y) data to variables X_train, X_val, Y_train, and Y_val. The script splits the data into training and validation sets using the indices generated through shuffling."
      ],
      "metadata": {
        "id": "mBPaObFCC2KV"
      }
    },
    {
      "cell_type": "code",
      "execution_count": 10,
      "metadata": {
        "id": "8TA6n8m8BaSX"
      },
      "outputs": [],
      "source": [
        "#Validation split\n",
        "rand=np.arange(60000)\n",
        "np.random.shuffle(rand)\n",
        "train_no=rand[:50000]\n",
        "\n",
        "val_no=np.setdiff1d(rand,train_no)\n",
        "\n",
        "X_train,X_val=X[train_no,:,:],X[val_no,:,:]\n",
        "Y_train,Y_val=Y[train_no],Y[val_no]"
      ]
    },
    {
      "cell_type": "markdown",
      "source": [
        "# Define Activation Functions and layers\n",
        "\n",
        "Several activation functions are defined, including sigmoid, its derivative, softmax, and its derivative. These functions are commonly used in neural networks for forward and backward propagation."
      ],
      "metadata": {
        "id": "fV4OnsF2DIN9"
      }
    },
    {
      "cell_type": "code",
      "execution_count": 11,
      "metadata": {
        "id": "FGKh3GhlBaSY"
      },
      "outputs": [],
      "source": [
        "#Sigmoid funstion\n",
        "def sigmoid(x):\n",
        "    return 1/(np.exp(-x)+1)\n",
        "\n",
        "#derivative of sigmoid\n",
        "def d_sigmoid(x):\n",
        "    return (np.exp(-x))/((np.exp(-x)+1)**2)"
      ]
    },
    {
      "cell_type": "code",
      "execution_count": 12,
      "metadata": {
        "id": "AcsvebCVBaSY"
      },
      "outputs": [],
      "source": [
        "#Softmax\n",
        "def softmax(x):\n",
        "    exp_element=np.exp(x-x.max())\n",
        "    return exp_element/np.sum(exp_element,axis=0)\n",
        "\n",
        "#derivative of softmax\n",
        "def d_softmax(x):\n",
        "    exp_element=np.exp(x-x.max())\n",
        "    return exp_element/np.sum(exp_element,axis=0)*(1-exp_element/np.sum(exp_element,axis=0))"
      ]
    },
    {
      "cell_type": "markdown",
      "source": [
        "The init function initializes the weights for two layers, l1 and l2, with random values based on the given dimensions. The weights are scaled by the reciprocal of the square root of the product of the dimensions."
      ],
      "metadata": {
        "id": "7QconJ03D-sI"
      }
    },
    {
      "cell_type": "code",
      "execution_count": 13,
      "metadata": {
        "id": "xUYylb0FBaSZ"
      },
      "outputs": [],
      "source": [
        "def init(x,y):\n",
        "    layer=np.random.uniform(-1.,1.,size=(x,y))/np.sqrt(x*y)\n",
        "    return layer.astype(np.float32)\n",
        "\n",
        "np.random.seed(42)\n",
        "l1=init(28*28,128)\n",
        "l2=init(128,10)"
      ]
    },
    {
      "cell_type": "code",
      "execution_count": 14,
      "metadata": {
        "colab": {
          "base_uri": "https://localhost:8080/"
        },
        "id": "TyYZYD07BaSZ",
        "outputId": "c788b410-cc66-45ad-d75a-2b2bdd9752bf"
      },
      "outputs": [
        {
          "output_type": "execute_result",
          "data": {
            "text/plain": [
              "array([1, 3, 1, ..., 9, 6, 6], dtype=uint8)"
            ]
          },
          "metadata": {},
          "execution_count": 14
        }
      ],
      "source": [
        "Y_train"
      ]
    },
    {
      "cell_type": "code",
      "execution_count": 15,
      "metadata": {
        "colab": {
          "base_uri": "https://localhost:8080/"
        },
        "id": "l7im3LS1BaSa",
        "outputId": "8e762d16-afb5-4df2-aa12-589b76e9fe89"
      },
      "outputs": [
        {
          "output_type": "execute_result",
          "data": {
            "text/plain": [
              "array([[3]], dtype=uint8)"
            ]
          },
          "metadata": {},
          "execution_count": 15
        }
      ],
      "source": [
        "ex=np.array(Y_train[1]).reshape(1,1)\n",
        "ex"
      ]
    },
    {
      "cell_type": "code",
      "execution_count": 16,
      "metadata": {
        "colab": {
          "base_uri": "https://localhost:8080/"
        },
        "id": "lqqUqYvNBaSa",
        "outputId": "c0d12290-3ace-4ee9-f4c0-f061eec7d97b"
      },
      "outputs": [
        {
          "output_type": "execute_result",
          "data": {
            "text/plain": [
              "array([[0., 0., 0., 1., 0., 0., 0., 0., 0., 0.]], dtype=float32)"
            ]
          },
          "metadata": {},
          "execution_count": 16
        }
      ],
      "source": [
        "example_out = np.zeros((len(ex),10), np.float32)\n",
        "example_out[range(example_out.shape[0]),ex] = 1\n",
        "example_out"
      ]
    },
    {
      "cell_type": "markdown",
      "source": [
        "# Forward and Backprop\n",
        "\n",
        "The script performs a forward and backward pass through the neural network for a specified number of epochs. The training data is randomly sampled in each epoch, and the network weights are updated based on the computed gradients. The script also calculates and stores training and validation accuracies and losses during the training process."
      ],
      "metadata": {
        "id": "lltx6mDXDoJH"
      }
    },
    {
      "cell_type": "code",
      "execution_count": 17,
      "metadata": {
        "id": "IY9Gdk74BaSa"
      },
      "outputs": [],
      "source": [
        "#forward and backward pass\n",
        "def forward_backward_pass(x,y):\n",
        "    targets = np.zeros((len(y),10), np.float32)\n",
        "    targets[range(targets.shape[0]),y] = 1\n",
        "\n",
        "\n",
        "    x_l1=x.dot(l1)\n",
        "    x_sigmoid=sigmoid(x_l1)\n",
        "    x_l2=x_sigmoid.dot(l2)\n",
        "    out=softmax(x_l2)\n",
        "\n",
        "\n",
        "    error=2*(out-targets)/out.shape[0]*d_softmax(x_l2)\n",
        "    update_l2=x_sigmoid.T@error\n",
        "\n",
        "\n",
        "    error=((l2).dot(error.T)).T*d_sigmoid(x_l1)\n",
        "    update_l1=x.T@error\n",
        "\n",
        "    return out,update_l1,update_l2\n"
      ]
    },
    {
      "cell_type": "code",
      "execution_count": 18,
      "metadata": {
        "colab": {
          "base_uri": "https://localhost:8080/"
        },
        "id": "LkTM9BrFBaSb",
        "outputId": "35da5a90-1dc5-4c3f-e1eb-d53c0a3b64a2"
      },
      "outputs": [
        {
          "output_type": "stream",
          "name": "stdout",
          "text": [
            "For 0th epoch: train accuracy: 0.078 | validation accuracy:0.070\n",
            "For 500th epoch: train accuracy: 0.711 | validation accuracy:0.650\n",
            "For 1000th epoch: train accuracy: 0.672 | validation accuracy:0.742\n",
            "For 1500th epoch: train accuracy: 0.734 | validation accuracy:0.774\n",
            "For 2000th epoch: train accuracy: 0.805 | validation accuracy:0.786\n",
            "For 2500th epoch: train accuracy: 0.758 | validation accuracy:0.797\n",
            "For 3000th epoch: train accuracy: 0.883 | validation accuracy:0.801\n",
            "For 3500th epoch: train accuracy: 0.828 | validation accuracy:0.809\n",
            "For 4000th epoch: train accuracy: 0.773 | validation accuracy:0.814\n",
            "For 4500th epoch: train accuracy: 0.828 | validation accuracy:0.818\n",
            "For 5000th epoch: train accuracy: 0.836 | validation accuracy:0.819\n",
            "For 5500th epoch: train accuracy: 0.828 | validation accuracy:0.822\n",
            "For 6000th epoch: train accuracy: 0.875 | validation accuracy:0.823\n",
            "For 6500th epoch: train accuracy: 0.812 | validation accuracy:0.825\n",
            "For 7000th epoch: train accuracy: 0.797 | validation accuracy:0.826\n",
            "For 7500th epoch: train accuracy: 0.812 | validation accuracy:0.827\n",
            "For 8000th epoch: train accuracy: 0.758 | validation accuracy:0.827\n",
            "For 8500th epoch: train accuracy: 0.867 | validation accuracy:0.827\n",
            "For 9000th epoch: train accuracy: 0.750 | validation accuracy:0.827\n",
            "For 9500th epoch: train accuracy: 0.844 | validation accuracy:0.827\n"
          ]
        }
      ],
      "source": [
        "epochs=10000\n",
        "lr=0.001\n",
        "batch=128\n",
        "\n",
        "losses,accuracies,val_accuracies=[],[],[]\n",
        "\n",
        "for i in range(epochs):\n",
        "    sample=np.random.randint(0,X_train.shape[0],size=(batch))\n",
        "    x=X_train[sample].reshape((-1,28*28))\n",
        "    y=Y_train[sample]\n",
        "\n",
        "\n",
        "    out,update_l1,update_l2=forward_backward_pass(x,y)\n",
        "\n",
        "    category=np.argmax(out,axis=1)\n",
        "    accuracy=(category==y).mean()\n",
        "    accuracies.append(accuracy)\n",
        "\n",
        "    loss=((category-y)**2).mean()\n",
        "    losses.append(loss.item())\n",
        "\n",
        "    l1=l1-lr*update_l1\n",
        "    l2=l2-lr*update_l2\n",
        "\n",
        "    if(i%20==0):\n",
        "        X_val=X_val.reshape((-1,28*28))\n",
        "        val_out=np.argmax(softmax(sigmoid(X_val.dot(l1)).dot(l2)),axis=1)\n",
        "        val_acc=(val_out==Y_val).mean()\n",
        "        val_accuracies.append(val_acc.item())\n",
        "    if(i%500==0): print(f'For {i}th epoch: train accuracy: {accuracy:.3f} | validation accuracy:{val_acc:.3f}')\n",
        "\n"
      ]
    },
    {
      "cell_type": "markdown",
      "source": [
        "#Evaluation\n",
        "The following evaluates the model's performance on the test set and displays the test accuracy. It also includes an example of using the trained model to predict a handwritten digit image."
      ],
      "metadata": {
        "id": "3ZGUR616EOas"
      }
    },
    {
      "cell_type": "code",
      "execution_count": 19,
      "metadata": {
        "colab": {
          "base_uri": "https://localhost:8080/",
          "height": 448
        },
        "id": "NSZyrRGuBaSb",
        "outputId": "94172b8b-05d3-49b1-b042-9fdc11c13296"
      },
      "outputs": [
        {
          "output_type": "execute_result",
          "data": {
            "text/plain": [
              "[<matplotlib.lines.Line2D at 0x7e3c39574dc0>]"
            ]
          },
          "metadata": {},
          "execution_count": 19
        },
        {
          "output_type": "display_data",
          "data": {
            "text/plain": [
              "<Figure size 640x480 with 1 Axes>"
            ],
            "image/png": "[encoded data removed]"
          },
          "metadata": {}
        }
      ],
      "source": [
        "plt.ylim(-0.1, 1.1)\n",
        "plot(accuracies)\n"
      ]
    },
    {
      "cell_type": "code",
      "execution_count": 20,
      "metadata": {
        "colab": {
          "base_uri": "https://localhost:8080/",
          "height": 448
        },
        "id": "lupMa5XnBaSc",
        "outputId": "5ba8ec7a-09d6-4458-c57f-65bc5845e1a4"
      },
      "outputs": [
        {
          "output_type": "execute_result",
          "data": {
            "text/plain": [
              "[<matplotlib.lines.Line2D at 0x7e3c39475690>]"
            ]
          },
          "metadata": {},
          "execution_count": 20
        },
        {
          "output_type": "display_data",
          "data": {
            "text/plain": [
              "<Figure size 640x480 with 1 Axes>"
            ],
            "image/png": "[encoded data removed]"
          },
          "metadata": {}
        }
      ],
      "source": [
        "plot(val_accuracies)"
      ]
    },
    {
      "cell_type": "code",
      "execution_count": 21,
      "metadata": {
        "colab": {
          "base_uri": "https://localhost:8080/"
        },
        "id": "wjCkuehXBaSc",
        "outputId": "40ec05f6-4b4b-46b8-efc3-6ba3d28f36fb"
      },
      "outputs": [
        {
          "output_type": "stream",
          "name": "stdout",
          "text": [
            "Test accuracy = 83.75%\n"
          ]
        }
      ],
      "source": [
        "test_out=np.argmax(softmax(sigmoid(X_test.dot(l1)).dot(l2)),axis=1)\n",
        "test_acc=(test_out==Y_test).mean().item()\n",
        "print(f'Test accuracy = {test_acc*100:.2f}%')\n",
        ""
      ]
    },
    {
      "cell_type": "code",
      "execution_count": 22,
      "metadata": {
        "colab": {
          "base_uri": "https://localhost:8080/",
          "height": 448
        },
        "id": "BBA7gXcCBaSc",
        "outputId": "b3481fd3-ce8f-46f6-cb09-672fffdf4bfe"
      },
      "outputs": [
        {
          "output_type": "execute_result",
          "data": {
            "text/plain": [
              "array([7])"
            ]
          },
          "metadata": {},
          "execution_count": 22
        },
        {
          "output_type": "display_data",
          "data": {
            "text/plain": [
              "<Figure size 640x480 with 1 Axes>"
            ],
            "image/png": "[encoded data removed]"
          },
          "metadata": {}
        }
      ],
      "source": [
        "m = [[0,0,0,0,0,0,0],\n",
        "     [0,0,10,10,10,0,0],\n",
        "     [0,0,0,0,10,0,0],\n",
        "     [0,0,0,0,10,0,0],\n",
        "     [0,0,0,0,10,0,0],\n",
        "     [0,0,0,0,10,0,0],\n",
        "     [0,0,0,0,0,0,0]]\n",
        "\n",
        "m = np.concatenate([np.concatenate([[x]*4 for x in y]*4) for y in m])\n",
        "m=m.reshape(1,-1)\n",
        "imshow(m.reshape(28,28))\n",
        "x = np.argmax(sigmoid(m.dot(l1)).dot(l2),axis=1)\n",
        "x"
      ]
    },
    {
      "cell_type": "code",
      "execution_count": 23,
      "metadata": {
        "colab": {
          "base_uri": "https://localhost:8080/",
          "height": 448
        },
        "id": "9a746S6mBaSd",
        "outputId": "c5e79a0f-2759-48c9-f441-61f4d67208d5"
      },
      "outputs": [
        {
          "output_type": "execute_result",
          "data": {
            "text/plain": [
              "array([1])"
            ]
          },
          "metadata": {},
          "execution_count": 23
        },
        {
          "output_type": "display_data",
          "data": {
            "text/plain": [
              "<Figure size 640x480 with 1 Axes>"
            ],
            "image/png": "[encoded data removed]"
          },
          "metadata": {}
        }
      ],
      "source": [
        "n = [[0,0,0,0,0,0,0],\n",
        "     [0,0,0,10,0,0,0],\n",
        "     [0,0,0,10,0,0,0],\n",
        "     [0,0,0,10,0,0,0],\n",
        "     [0,0,0,10,0,0,0],\n",
        "     [0,0,0,10,0,0,0],\n",
        "     [0,0,0,0,0,0,0]]\n",
        "\n",
        "n = np.concatenate([np.concatenate([[x]*4 for x in y]*4) for y in n])\n",
        "n=n.reshape(1,-1)\n",
        "imshow(n.reshape(28,28))\n",
        "x = np.argmax(sigmoid(n.dot(l1)).dot(l2),axis=1)\n",
        "x"
      ]
    }
  ],
  "metadata": {
    "kernelspec": {
      "display_name": "Python 3",
      "language": "python",
      "name": "python3"
    },
    "language_info": {
      "codemirror_mode": {
        "name": "ipython",
        "version": 3
      },
      "file_extension": ".py",
      "mimetype": "text/x-python",
      "name": "python",
      "nbconvert_exporter": "python",
      "pygments_lexer": "ipython3",
      "version": "3.8.5"
    },
    "colab": {
      "provenance": [],
      "include_colab_link": true
    }
  },
  "nbformat": 4,
  "nbformat_minor": 0
}