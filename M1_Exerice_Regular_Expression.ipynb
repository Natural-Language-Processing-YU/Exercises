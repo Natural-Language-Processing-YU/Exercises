{
  "nbformat": 4,
  "nbformat_minor": 0,
  "metadata": {
    "colab": {
      "provenance": [],
      "authorship_tag": "ABX9TyOngnuqcfoMmIBpfrlrQg/M",
      "include_colab_link": true
    },
    "kernelspec": {
      "name": "python3",
      "display_name": "Python 3"
    },
    "language_info": {
      "name": "python"
    }
  },
  "cells": [
    {
      "cell_type": "markdown",
      "metadata": {
        "id": "view-in-github",
        "colab_type": "text"
      },
      "source": [
        "<a href=\"https://colab.research.google.com/github/Natural-Language-Processing-YU/Exercises/blob/main/M1_Exerice_Regular_Expression.ipynb\" target=\"_parent\"><img src=\"https://colab.research.google.com/assets/colab-badge.svg\" alt=\"Open In Colab\"/></a>"
      ]
    },
    {
      "cell_type": "markdown",
      "source": [
        "#Regular Expressions\n",
        "\n",
        "Instructions: Write an algorithm that validates whether or not the input is a valid email address or not. So the output should be \"Valid\" or \"Invalid\""
      ],
      "metadata": {
        "id": "FQmYz3bkvtj7"
      }
    },
    {
      "cell_type": "code",
      "source": [
        "import re\n",
        "\n",
        "def validate_email(email):\n",
        "  if: #stuff\n",
        "    return(\"Valid\")\n",
        "  else:\n",
        "    #stuff\n",
        "    return(\"Invalid\")"
      ],
      "metadata": {
        "id": "3kvhCDwdv5Og"
      },
      "execution_count": null,
      "outputs": []
    },
    {
      "cell_type": "markdown",
      "source": [],
      "metadata": {
        "id": "2ZirBu14vtbp"
      }
    },
    {
      "cell_type": "code",
      "source": [
        "validate_email(\"john@example.com\")\n",
        "validate_email(\"jane.doe@example.co.uk\")\n",
        "validate_email(\"info@123.45.67.89\")\n",
        "validate_email(\"invalid_email@\")\n",
        "validate_email(\"noatsymbol.com\")\n",
        "validate_email(\"missingdomain@.com\")"
      ],
      "metadata": {
        "id": "7nNbtZaEwJ_M"
      },
      "execution_count": null,
      "outputs": []
    }
  ]
}